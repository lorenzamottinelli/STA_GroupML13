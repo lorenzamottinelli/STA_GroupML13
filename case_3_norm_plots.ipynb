{
 "cells": [
  {
   "cell_type": "markdown",
   "metadata": {
    "pycharm": {
     "name": "#%% md\n"
    }
   },
   "source": [
    "# # ST>A | Special Topics in Astrodynamics | ae4889"
   ]
  },
  {
   "cell_type": "code",
   "execution_count": 42,
   "metadata": {
    "collapsed": false,
    "jupyter": {
     "outputs_hidden": false
    },
    "pycharm": {
     "name": "#%%\n"
    }
   },
   "outputs": [
    {
     "data": {
      "text/html": [
       "<div>\n",
       "<style scoped>\n",
       "    .dataframe tbody tr th:only-of-type {\n",
       "        vertical-align: middle;\n",
       "    }\n",
       "\n",
       "    .dataframe tbody tr th {\n",
       "        vertical-align: top;\n",
       "    }\n",
       "\n",
       "    .dataframe thead th {\n",
       "        text-align: right;\n",
       "    }\n",
       "</style>\n",
       "<table border=\"1\" class=\"dataframe\">\n",
       "  <thead>\n",
       "    <tr style=\"text-align: right;\">\n",
       "      <th></th>\n",
       "      <th>departure time</th>\n",
       "      <th>time of flight</th>\n",
       "      <th>arrival time</th>\n",
       "      <th>∆V_1</th>\n",
       "      <th>∆V_2</th>\n",
       "    </tr>\n",
       "  </thead>\n",
       "  <tbody>\n",
       "    <tr>\n",
       "      <th>0</th>\n",
       "      <td>715551566.0</td>\n",
       "      <td>17470756.0</td>\n",
       "      <td>733022322.0</td>\n",
       "      <td>3577.063946</td>\n",
       "      <td>4726.501883</td>\n",
       "    </tr>\n",
       "    <tr>\n",
       "      <th>1</th>\n",
       "      <td>719297160.0</td>\n",
       "      <td>26748392.0</td>\n",
       "      <td>746045552.0</td>\n",
       "      <td>4106.990821</td>\n",
       "      <td>5541.734301</td>\n",
       "    </tr>\n",
       "    <tr>\n",
       "      <th>2</th>\n",
       "      <td>716105905.0</td>\n",
       "      <td>9450037.0</td>\n",
       "      <td>725555942.0</td>\n",
       "      <td>126.185950</td>\n",
       "      <td>368.164990</td>\n",
       "    </tr>\n",
       "    <tr>\n",
       "      <th>3</th>\n",
       "      <td>715783574.0</td>\n",
       "      <td>24993606.0</td>\n",
       "      <td>740777180.0</td>\n",
       "      <td>3937.910408</td>\n",
       "      <td>5411.901896</td>\n",
       "    </tr>\n",
       "    <tr>\n",
       "      <th>4</th>\n",
       "      <td>717645486.0</td>\n",
       "      <td>13975971.0</td>\n",
       "      <td>731621457.0</td>\n",
       "      <td>3392.797231</td>\n",
       "      <td>4352.089213</td>\n",
       "    </tr>\n",
       "    <tr>\n",
       "      <th>...</th>\n",
       "      <td>...</td>\n",
       "      <td>...</td>\n",
       "      <td>...</td>\n",
       "      <td>...</td>\n",
       "      <td>...</td>\n",
       "    </tr>\n",
       "    <tr>\n",
       "      <th>99995</th>\n",
       "      <td>717738385.0</td>\n",
       "      <td>26494859.0</td>\n",
       "      <td>744233244.0</td>\n",
       "      <td>4011.004073</td>\n",
       "      <td>5455.659695</td>\n",
       "    </tr>\n",
       "    <tr>\n",
       "      <th>99996</th>\n",
       "      <td>715605216.0</td>\n",
       "      <td>15517444.0</td>\n",
       "      <td>731122660.0</td>\n",
       "      <td>3245.808873</td>\n",
       "      <td>4170.297589</td>\n",
       "    </tr>\n",
       "    <tr>\n",
       "      <th>99997</th>\n",
       "      <td>719621735.0</td>\n",
       "      <td>33804428.0</td>\n",
       "      <td>753426163.0</td>\n",
       "      <td>3864.150243</td>\n",
       "      <td>4979.463354</td>\n",
       "    </tr>\n",
       "    <tr>\n",
       "      <th>99998</th>\n",
       "      <td>715664576.0</td>\n",
       "      <td>32494544.0</td>\n",
       "      <td>748159120.0</td>\n",
       "      <td>3835.606847</td>\n",
       "      <td>5180.600242</td>\n",
       "    </tr>\n",
       "    <tr>\n",
       "      <th>99999</th>\n",
       "      <td>717480750.0</td>\n",
       "      <td>34271276.0</td>\n",
       "      <td>751752026.0</td>\n",
       "      <td>3797.964034</td>\n",
       "      <td>4999.143627</td>\n",
       "    </tr>\n",
       "  </tbody>\n",
       "</table>\n",
       "<p>100000 rows × 5 columns</p>\n",
       "</div>"
      ],
      "text/plain": [
       "       departure time  time of flight  arrival time         ∆V_1         ∆V_2\n",
       "0         715551566.0      17470756.0   733022322.0  3577.063946  4726.501883\n",
       "1         719297160.0      26748392.0   746045552.0  4106.990821  5541.734301\n",
       "2         716105905.0       9450037.0   725555942.0   126.185950   368.164990\n",
       "3         715783574.0      24993606.0   740777180.0  3937.910408  5411.901896\n",
       "4         717645486.0      13975971.0   731621457.0  3392.797231  4352.089213\n",
       "...               ...             ...           ...          ...          ...\n",
       "99995     717738385.0      26494859.0   744233244.0  4011.004073  5455.659695\n",
       "99996     715605216.0      15517444.0   731122660.0  3245.808873  4170.297589\n",
       "99997     719621735.0      33804428.0   753426163.0  3864.150243  4979.463354\n",
       "99998     715664576.0      32494544.0   748159120.0  3835.606847  5180.600242\n",
       "99999     717480750.0      34271276.0   751752026.0  3797.964034  4999.143627\n",
       "\n",
       "[100000 rows x 5 columns]"
      ]
     },
     "execution_count": 42,
     "metadata": {},
     "output_type": "execute_result"
    }
   ],
   "source": [
    "import matplotlib.pyplot as plt\n",
    "from scipy.stats import boxcox\n",
    "import numpy as np\n",
    "import pandas as pd\n",
    "import seaborn as sns\n",
    "import tensorflow as tf\n",
    "\n",
    "from tensorflow import keras\n",
    "from tensorflow.keras import layers\n",
    "from keras_visualizer import visualizer\n",
    "from IPython.core.display import Image, display\n",
    "\n",
    "\n",
    "plt.rcParams['figure.facecolor'] = 'white'\n",
    "plt.rcParams['axes.spines.top'] = plt.rcParams['axes.spines.right'] = False\n",
    "np.set_printoptions(precision=4, suppress=True)\n",
    "\n",
    "JULIAN_DAY = 86400.0\n",
    "launch_window22 = 8304.5 * JULIAN_DAY\n",
    "\n",
    "departure_range = np.array([-25 * JULIAN_DAY, 25 * (JULIAN_DAY - 1)]) + launch_window22\n",
    "arrival_range = np.array([(-25 + 60) * JULIAN_DAY, (25 + 450) * (JULIAN_DAY - 1)]) + launch_window22\n",
    "time_of_flight_range = arrival_range - departure_range\n",
    "\n",
    "raw_data = np.loadtxt('Output.txt', skiprows=1, delimiter=',')\n",
    "\n",
    "column_names = ['departure time', 'arrival time', '∆V_1', '∆V_2']\n",
    "raw_dataset = pd.DataFrame(data=raw_data, columns=column_names)\n",
    "\n",
    "column_names.insert(1, \"time of flight\")\n",
    "raw_dataset['time of flight'] = raw_dataset[\"arrival time\"] - raw_dataset[\"departure time\"]\n",
    "\n",
    "raw_dataset = raw_dataset[column_names]\n",
    "raw_dataset"
   ]
  },
  {
   "cell_type": "code",
   "execution_count": 63,
   "metadata": {},
   "outputs": [],
   "source": [
    "dataset = raw_dataset.copy()\n",
    "\n",
    "train_dataset = dataset.sample(frac=0.8, random_state=0)\n",
    "test_dataset = dataset.drop(train_dataset.index)\n",
    "\n",
    "# ## Normalisation\n",
    "def uniform_norm(dataset, the_ranges):\n",
    "    for i, the_range in zip(dataset, the_ranges):\n",
    "        dataset[i] = (dataset[i] - the_range.min()) / (the_range.max() - the_range.min())\n",
    "    return dataset\n",
    "\n",
    "def normalise(array):\n",
    "    mean, std = np.average(array), np.std(array)\n",
    "    return (array - mean) / std\n",
    "\n"
   ]
  },
  {
   "cell_type": "code",
   "execution_count": 44,
   "metadata": {},
   "outputs": [],
   "source": [
    "time_columns = column_names[:3]\n",
    "uniform_normed = uniform_norm(train_dataset.copy(), [departure_range, time_of_flight_range, arrival_range])[time_columns]\n",
    "uniform_normed = uniform_normed.melt(value_name=\"norm[time]\")"
   ]
  },
  {
   "cell_type": "code",
   "execution_count": 76,
   "metadata": {},
   "outputs": [
    {
     "data": {
      "image/png": "[encoded data removed]",
      "text/plain": [
       "<Figure size 327.6x162 with 1 Axes>"
      ]
     },
     "metadata": {},
     "output_type": "display_data"
    }
   ],
   "source": [
    "fig, ax = plt.subplots(1, 1, figsize=(4.55, 2.25))\n",
    "g = sns.kdeplot(ax=ax, data=uniform_normed, x=\"norm[time]\", hue=\"variable\", multiple='layer', cut=0)\n",
    "g.get_legend().set_title(None)\n",
    "g.get_legend().draw_frame(False)\n",
    "fig.savefig('norm_time.pdf')"
   ]
  },
  {
   "cell_type": "code",
   "execution_count": 71,
   "metadata": {},
   "outputs": [],
   "source": [
    "norms_dv2 = pd.DataFrame()\n",
    "dv2 = train_dataset[column_names[-1]]\n",
    "norms_dv2['normal']    = normalise(dv2)\n",
    "norms_dv2['log']       = normalise(np.log(dv2))\n",
    "norms_dv2['sqrt']      = normalise(np.sqrt(dv2))\n",
    "norms_dv2['boxcox']    = normalise(boxcox(dv2)[0])\n",
    "norms_dv2 = norms_dv2.melt(value_name=r\"norm[$\\Delta V_2$]\")"
   ]
  },
  {
   "cell_type": "code",
   "execution_count": 77,
   "metadata": {},
   "outputs": [
    {
     "data": {
      "image/png": "[encoded data removed]",
      "text/plain": [
       "<Figure size 327.6x162 with 1 Axes>"
      ]
     },
     "metadata": {},
     "output_type": "display_data"
    }
   ],
   "source": [
    "fig, ax = plt.subplots(1, 1, figsize=(4.55, 2.25))\n",
    "g = sns.kdeplot(ax=ax, data=norms_dv2, x=\"norm[$\\Delta V_2$]\", hue=\"variable\", multiple='layer', cut=0)\n",
    "g.set(xlim=(-4, 4))\n",
    "g.get_legend().set_title(None)\n",
    "g.get_legend().draw_frame(False)\n",
    "fig.savefig('norm_dv2.pdf')"
   ]
  },
  {
   "cell_type": "code",
   "execution_count": null,
   "metadata": {},
   "outputs": [],
   "source": []
  },
  {
   "cell_type": "code",
   "execution_count": null,
   "metadata": {},
   "outputs": [],
   "source": []
  }
 ],
 "metadata": {
  "colab": {
   "collapsed_sections": [],
   "name": "regression.ipynb",
   "private_outputs": true,
   "provenance": [],
   "toc_visible": true
  },
  "kernelspec": {
   "display_name": "Python 3",
   "language": "python",
   "name": "python3"
  },
  "language_info": {
   "codemirror_mode": {
    "name": "ipython",
    "version": 3
   },
   "file_extension": ".py",
   "mimetype": "text/x-python",
   "name": "python",
   "nbconvert_exporter": "python",
   "pygments_lexer": "ipython3",
   "version": "3.7.10"
  },
  "toc-autonumbering": false,
  "toc-showcode": false,
  "toc-showmarkdowntxt": false
 },
 "nbformat": 4,
 "nbformat_minor": 4
}
